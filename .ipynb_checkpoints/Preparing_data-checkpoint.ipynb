{
 "cells": [
  {
   "cell_type": "code",
   "execution_count": 1,
   "metadata": {},
   "outputs": [],
   "source": [
    "import numpy as np\n",
    "import pandas as pd\n",
    "import matplotlib.pyplot as plt"
   ]
  },
  {
   "cell_type": "code",
   "execution_count": 2,
   "metadata": {},
   "outputs": [],
   "source": [
    "df = pd.read_excel('Data//Imbalance_prices_slovenia_2019.xlsx')\n",
    "df_prices = pd.read_excel('Data//PV_production_sample.xlsx')"
   ]
  },
  {
   "cell_type": "code",
   "execution_count": 3,
   "metadata": {},
   "outputs": [],
   "source": [
    "df.drop(index=8760, axis=0, inplace=True)"
   ]
  },
  {
   "cell_type": "code",
   "execution_count": 4,
   "metadata": {},
   "outputs": [
    {
     "data": {
      "text/html": [
       "<div>\n",
       "<style scoped>\n",
       "    .dataframe tbody tr th:only-of-type {\n",
       "        vertical-align: middle;\n",
       "    }\n",
       "\n",
       "    .dataframe tbody tr th {\n",
       "        vertical-align: top;\n",
       "    }\n",
       "\n",
       "    .dataframe thead th {\n",
       "        text-align: right;\n",
       "    }\n",
       "</style>\n",
       "<table border=\"1\" class=\"dataframe\">\n",
       "  <thead>\n",
       "    <tr style=\"text-align: right;\">\n",
       "      <th></th>\n",
       "      <th>Imbalance settlement period (CET)</th>\n",
       "      <th>Positive Imbalance Price [EUR/MWh]</th>\n",
       "      <th>Negative Imbalance Price [EUR/MWh]</th>\n",
       "      <th>Day-ahead Price [EUR/MWh]</th>\n",
       "    </tr>\n",
       "  </thead>\n",
       "  <tbody>\n",
       "    <tr>\n",
       "      <th>0</th>\n",
       "      <td>01.01.2019 00:00 - 01.01.2019 01:00</td>\n",
       "      <td>1.53</td>\n",
       "      <td>51.00</td>\n",
       "      <td>51.00</td>\n",
       "    </tr>\n",
       "    <tr>\n",
       "      <th>1</th>\n",
       "      <td>01.01.2019 01:00 - 01.01.2019 02:00</td>\n",
       "      <td>3.00</td>\n",
       "      <td>47.46</td>\n",
       "      <td>46.27</td>\n",
       "    </tr>\n",
       "    <tr>\n",
       "      <th>2</th>\n",
       "      <td>01.01.2019 02:00 - 01.01.2019 03:00</td>\n",
       "      <td>3.00</td>\n",
       "      <td>40.82</td>\n",
       "      <td>39.78</td>\n",
       "    </tr>\n",
       "    <tr>\n",
       "      <th>3</th>\n",
       "      <td>01.01.2019 03:00 - 01.01.2019 04:00</td>\n",
       "      <td>2.05</td>\n",
       "      <td>27.87</td>\n",
       "      <td>27.87</td>\n",
       "    </tr>\n",
       "    <tr>\n",
       "      <th>4</th>\n",
       "      <td>01.01.2019 04:00 - 01.01.2019 05:00</td>\n",
       "      <td>-18.02</td>\n",
       "      <td>-0.36</td>\n",
       "      <td>-0.36</td>\n",
       "    </tr>\n",
       "  </tbody>\n",
       "</table>\n",
       "</div>"
      ],
      "text/plain": [
       "     Imbalance settlement period (CET)  Positive Imbalance Price [EUR/MWh]  \\\n",
       "0  01.01.2019 00:00 - 01.01.2019 01:00                                1.53   \n",
       "1  01.01.2019 01:00 - 01.01.2019 02:00                                3.00   \n",
       "2  01.01.2019 02:00 - 01.01.2019 03:00                                3.00   \n",
       "3  01.01.2019 03:00 - 01.01.2019 04:00                                2.05   \n",
       "4  01.01.2019 04:00 - 01.01.2019 05:00                              -18.02   \n",
       "\n",
       "   Negative Imbalance Price [EUR/MWh]  Day-ahead Price [EUR/MWh]  \n",
       "0                               51.00                      51.00  \n",
       "1                               47.46                      46.27  \n",
       "2                               40.82                      39.78  \n",
       "3                               27.87                      27.87  \n",
       "4                               -0.36                      -0.36  "
      ]
     },
     "execution_count": 4,
     "metadata": {},
     "output_type": "execute_result"
    }
   ],
   "source": [
    "df.head()"
   ]
  },
  {
   "cell_type": "code",
   "execution_count": 5,
   "metadata": {},
   "outputs": [],
   "source": [
    "datetime = pd.date_range(start='1/1/2019', end='1/1/2020', freq='H', closed='left')"
   ]
  },
  {
   "cell_type": "code",
   "execution_count": 6,
   "metadata": {},
   "outputs": [],
   "source": [
    "df['Settlement period (CET)'] = datetime"
   ]
  },
  {
   "cell_type": "code",
   "execution_count": 7,
   "metadata": {},
   "outputs": [],
   "source": [
    "df['PV production'] = df_prices['Ps1']"
   ]
  },
  {
   "cell_type": "code",
   "execution_count": 8,
   "metadata": {},
   "outputs": [
    {
     "data": {
      "text/plain": [
       "Index(['Imbalance settlement period (CET)',\n",
       "       'Positive Imbalance Price [EUR/MWh]',\n",
       "       'Negative Imbalance Price [EUR/MWh]', 'Day-ahead Price [EUR/MWh]',\n",
       "       'Settlement period (CET)', 'PV production'],\n",
       "      dtype='object')"
      ]
     },
     "execution_count": 8,
     "metadata": {},
     "output_type": "execute_result"
    }
   ],
   "source": [
    "df.columns"
   ]
  },
  {
   "cell_type": "code",
   "execution_count": 9,
   "metadata": {},
   "outputs": [],
   "source": [
    "df.index = df['Settlement period (CET)']"
   ]
  },
  {
   "cell_type": "code",
   "execution_count": 10,
   "metadata": {},
   "outputs": [],
   "source": [
    "month = df['Settlement period (CET)'].dt.month\n",
    "day = df['Settlement period (CET)'].dt.day\n",
    "hour = df['Settlement period (CET)'].dt.hour\n",
    "df['Month'] = month\n",
    "df['Day'] = day\n",
    "df['Hour'] = hour"
   ]
  },
  {
   "cell_type": "code",
   "execution_count": 11,
   "metadata": {},
   "outputs": [],
   "source": [
    "df.drop(['Imbalance settlement period (CET)', 'Settlement period (CET)'], axis=1, inplace=True)"
   ]
  },
  {
   "cell_type": "code",
   "execution_count": 12,
   "metadata": {},
   "outputs": [
    {
     "data": {
      "text/html": [
       "<div>\n",
       "<style scoped>\n",
       "    .dataframe tbody tr th:only-of-type {\n",
       "        vertical-align: middle;\n",
       "    }\n",
       "\n",
       "    .dataframe tbody tr th {\n",
       "        vertical-align: top;\n",
       "    }\n",
       "\n",
       "    .dataframe thead th {\n",
       "        text-align: right;\n",
       "    }\n",
       "</style>\n",
       "<table border=\"1\" class=\"dataframe\">\n",
       "  <thead>\n",
       "    <tr style=\"text-align: right;\">\n",
       "      <th></th>\n",
       "      <th>Positive Imbalance Price [EUR/MWh]</th>\n",
       "      <th>Negative Imbalance Price [EUR/MWh]</th>\n",
       "      <th>Day-ahead Price [EUR/MWh]</th>\n",
       "      <th>PV production</th>\n",
       "      <th>Month</th>\n",
       "      <th>Day</th>\n",
       "      <th>Hour</th>\n",
       "    </tr>\n",
       "    <tr>\n",
       "      <th>Settlement period (CET)</th>\n",
       "      <th></th>\n",
       "      <th></th>\n",
       "      <th></th>\n",
       "      <th></th>\n",
       "      <th></th>\n",
       "      <th></th>\n",
       "      <th></th>\n",
       "    </tr>\n",
       "  </thead>\n",
       "  <tbody>\n",
       "    <tr>\n",
       "      <th>2019-01-01 00:00:00</th>\n",
       "      <td>1.53</td>\n",
       "      <td>51.00</td>\n",
       "      <td>51.00</td>\n",
       "      <td>0.0</td>\n",
       "      <td>1</td>\n",
       "      <td>1</td>\n",
       "      <td>0</td>\n",
       "    </tr>\n",
       "    <tr>\n",
       "      <th>2019-01-01 01:00:00</th>\n",
       "      <td>3.00</td>\n",
       "      <td>47.46</td>\n",
       "      <td>46.27</td>\n",
       "      <td>0.0</td>\n",
       "      <td>1</td>\n",
       "      <td>1</td>\n",
       "      <td>1</td>\n",
       "    </tr>\n",
       "    <tr>\n",
       "      <th>2019-01-01 02:00:00</th>\n",
       "      <td>3.00</td>\n",
       "      <td>40.82</td>\n",
       "      <td>39.78</td>\n",
       "      <td>0.0</td>\n",
       "      <td>1</td>\n",
       "      <td>1</td>\n",
       "      <td>2</td>\n",
       "    </tr>\n",
       "    <tr>\n",
       "      <th>2019-01-01 03:00:00</th>\n",
       "      <td>2.05</td>\n",
       "      <td>27.87</td>\n",
       "      <td>27.87</td>\n",
       "      <td>0.0</td>\n",
       "      <td>1</td>\n",
       "      <td>1</td>\n",
       "      <td>3</td>\n",
       "    </tr>\n",
       "    <tr>\n",
       "      <th>2019-01-01 04:00:00</th>\n",
       "      <td>-18.02</td>\n",
       "      <td>-0.36</td>\n",
       "      <td>-0.36</td>\n",
       "      <td>0.0</td>\n",
       "      <td>1</td>\n",
       "      <td>1</td>\n",
       "      <td>4</td>\n",
       "    </tr>\n",
       "    <tr>\n",
       "      <th>...</th>\n",
       "      <td>...</td>\n",
       "      <td>...</td>\n",
       "      <td>...</td>\n",
       "      <td>...</td>\n",
       "      <td>...</td>\n",
       "      <td>...</td>\n",
       "      <td>...</td>\n",
       "    </tr>\n",
       "    <tr>\n",
       "      <th>2019-12-31 19:00:00</th>\n",
       "      <td>34.63</td>\n",
       "      <td>47.73</td>\n",
       "      <td>47.73</td>\n",
       "      <td>0.0</td>\n",
       "      <td>12</td>\n",
       "      <td>31</td>\n",
       "      <td>19</td>\n",
       "    </tr>\n",
       "    <tr>\n",
       "      <th>2019-12-31 20:00:00</th>\n",
       "      <td>32.55</td>\n",
       "      <td>46.00</td>\n",
       "      <td>46.00</td>\n",
       "      <td>0.0</td>\n",
       "      <td>12</td>\n",
       "      <td>31</td>\n",
       "      <td>20</td>\n",
       "    </tr>\n",
       "    <tr>\n",
       "      <th>2019-12-31 21:00:00</th>\n",
       "      <td>30.51</td>\n",
       "      <td>42.20</td>\n",
       "      <td>42.20</td>\n",
       "      <td>0.0</td>\n",
       "      <td>12</td>\n",
       "      <td>31</td>\n",
       "      <td>21</td>\n",
       "    </tr>\n",
       "    <tr>\n",
       "      <th>2019-12-31 22:00:00</th>\n",
       "      <td>29.37</td>\n",
       "      <td>39.74</td>\n",
       "      <td>39.74</td>\n",
       "      <td>0.0</td>\n",
       "      <td>12</td>\n",
       "      <td>31</td>\n",
       "      <td>22</td>\n",
       "    </tr>\n",
       "    <tr>\n",
       "      <th>2019-12-31 23:00:00</th>\n",
       "      <td>28.35</td>\n",
       "      <td>38.88</td>\n",
       "      <td>38.88</td>\n",
       "      <td>0.0</td>\n",
       "      <td>12</td>\n",
       "      <td>31</td>\n",
       "      <td>23</td>\n",
       "    </tr>\n",
       "  </tbody>\n",
       "</table>\n",
       "<p>8760 rows × 7 columns</p>\n",
       "</div>"
      ],
      "text/plain": [
       "                         Positive Imbalance Price [EUR/MWh]  \\\n",
       "Settlement period (CET)                                       \n",
       "2019-01-01 00:00:00                                    1.53   \n",
       "2019-01-01 01:00:00                                    3.00   \n",
       "2019-01-01 02:00:00                                    3.00   \n",
       "2019-01-01 03:00:00                                    2.05   \n",
       "2019-01-01 04:00:00                                  -18.02   \n",
       "...                                                     ...   \n",
       "2019-12-31 19:00:00                                   34.63   \n",
       "2019-12-31 20:00:00                                   32.55   \n",
       "2019-12-31 21:00:00                                   30.51   \n",
       "2019-12-31 22:00:00                                   29.37   \n",
       "2019-12-31 23:00:00                                   28.35   \n",
       "\n",
       "                         Negative Imbalance Price [EUR/MWh]  \\\n",
       "Settlement period (CET)                                       \n",
       "2019-01-01 00:00:00                                   51.00   \n",
       "2019-01-01 01:00:00                                   47.46   \n",
       "2019-01-01 02:00:00                                   40.82   \n",
       "2019-01-01 03:00:00                                   27.87   \n",
       "2019-01-01 04:00:00                                   -0.36   \n",
       "...                                                     ...   \n",
       "2019-12-31 19:00:00                                   47.73   \n",
       "2019-12-31 20:00:00                                   46.00   \n",
       "2019-12-31 21:00:00                                   42.20   \n",
       "2019-12-31 22:00:00                                   39.74   \n",
       "2019-12-31 23:00:00                                   38.88   \n",
       "\n",
       "                         Day-ahead Price [EUR/MWh]  PV production  Month  Day  \\\n",
       "Settlement period (CET)                                                         \n",
       "2019-01-01 00:00:00                          51.00            0.0      1    1   \n",
       "2019-01-01 01:00:00                          46.27            0.0      1    1   \n",
       "2019-01-01 02:00:00                          39.78            0.0      1    1   \n",
       "2019-01-01 03:00:00                          27.87            0.0      1    1   \n",
       "2019-01-01 04:00:00                          -0.36            0.0      1    1   \n",
       "...                                            ...            ...    ...  ...   \n",
       "2019-12-31 19:00:00                          47.73            0.0     12   31   \n",
       "2019-12-31 20:00:00                          46.00            0.0     12   31   \n",
       "2019-12-31 21:00:00                          42.20            0.0     12   31   \n",
       "2019-12-31 22:00:00                          39.74            0.0     12   31   \n",
       "2019-12-31 23:00:00                          38.88            0.0     12   31   \n",
       "\n",
       "                         Hour  \n",
       "Settlement period (CET)        \n",
       "2019-01-01 00:00:00         0  \n",
       "2019-01-01 01:00:00         1  \n",
       "2019-01-01 02:00:00         2  \n",
       "2019-01-01 03:00:00         3  \n",
       "2019-01-01 04:00:00         4  \n",
       "...                       ...  \n",
       "2019-12-31 19:00:00        19  \n",
       "2019-12-31 20:00:00        20  \n",
       "2019-12-31 21:00:00        21  \n",
       "2019-12-31 22:00:00        22  \n",
       "2019-12-31 23:00:00        23  \n",
       "\n",
       "[8760 rows x 7 columns]"
      ]
     },
     "execution_count": 12,
     "metadata": {},
     "output_type": "execute_result"
    }
   ],
   "source": [
    "df"
   ]
  },
  {
   "cell_type": "code",
   "execution_count": 13,
   "metadata": {},
   "outputs": [],
   "source": [
    "# 3 PV production scenarios\n",
    "# 3 DA price scenarios\n",
    "# 1 imbalance settlement price\n",
    "# Total scenarios = 3x3x1 = 9"
   ]
  },
  {
   "cell_type": "code",
   "execution_count": 14,
   "metadata": {},
   "outputs": [],
   "source": [
    "dam_1 = df[(df['Month'] == 3) & (df['Day'] == 15)]['Day-ahead Price [EUR/MWh]'].values\n",
    "dam_2 = df[(df['Month'] == 4) & (df['Day'] == 15)]['Day-ahead Price [EUR/MWh]'].values\n",
    "dam_3 = df[(df['Month'] == 5) & (df['Day'] == 15)]['Day-ahead Price [EUR/MWh]'].values"
   ]
  },
  {
   "cell_type": "code",
   "execution_count": 15,
   "metadata": {},
   "outputs": [],
   "source": [
    "dam_scen = pd.concat([pd.Series(dam_1), pd.Series(dam_2), pd.Series(dam_3)], axis=1)"
   ]
  },
  {
   "cell_type": "code",
   "execution_count": 16,
   "metadata": {},
   "outputs": [],
   "source": [
    "dam_scen.rename(columns={0: \"DAM1\", 1: \"DAM2\", 2: \"DAM3\"}, inplace=True)"
   ]
  },
  {
   "cell_type": "code",
   "execution_count": 17,
   "metadata": {},
   "outputs": [
    {
     "data": {
      "text/html": [
       "<div>\n",
       "<style scoped>\n",
       "    .dataframe tbody tr th:only-of-type {\n",
       "        vertical-align: middle;\n",
       "    }\n",
       "\n",
       "    .dataframe tbody tr th {\n",
       "        vertical-align: top;\n",
       "    }\n",
       "\n",
       "    .dataframe thead th {\n",
       "        text-align: right;\n",
       "    }\n",
       "</style>\n",
       "<table border=\"1\" class=\"dataframe\">\n",
       "  <thead>\n",
       "    <tr style=\"text-align: right;\">\n",
       "      <th></th>\n",
       "      <th>DAM1</th>\n",
       "      <th>DAM2</th>\n",
       "      <th>DAM3</th>\n",
       "    </tr>\n",
       "  </thead>\n",
       "  <tbody>\n",
       "  </tbody>\n",
       "</table>\n",
       "</div>"
      ],
      "text/plain": [
       "Empty DataFrame\n",
       "Columns: [DAM1, DAM2, DAM3]\n",
       "Index: []"
      ]
     },
     "execution_count": 17,
     "metadata": {},
     "output_type": "execute_result"
    }
   ],
   "source": [
    "dam_scen.head(0)"
   ]
  },
  {
   "cell_type": "code",
   "execution_count": 18,
   "metadata": {},
   "outputs": [],
   "source": [
    "pv_1 = df[(df['Month'] == 3) & (df['Day'] == 15)]['PV production'].values\n",
    "pv_2 = df[(df['Month'] == 4) & (df['Day'] == 15)]['PV production'].values\n",
    "pv_3 = df[(df['Month'] == 5) & (df['Day'] == 15)]['PV production'].values"
   ]
  },
  {
   "cell_type": "code",
   "execution_count": 19,
   "metadata": {},
   "outputs": [],
   "source": [
    "pv_scen = pd.concat([pd.Series(pv_1), pd.Series(pv_2), pd.Series(pv_3)], axis=1)"
   ]
  },
  {
   "cell_type": "code",
   "execution_count": 20,
   "metadata": {},
   "outputs": [],
   "source": [
    "pv_scen.rename(columns={0: \"PV1\", 1: \"PV2\", 2: \"PV3\"}, inplace=True)"
   ]
  },
  {
   "cell_type": "code",
   "execution_count": 21,
   "metadata": {},
   "outputs": [
    {
     "data": {
      "text/html": [
       "<div>\n",
       "<style scoped>\n",
       "    .dataframe tbody tr th:only-of-type {\n",
       "        vertical-align: middle;\n",
       "    }\n",
       "\n",
       "    .dataframe tbody tr th {\n",
       "        vertical-align: top;\n",
       "    }\n",
       "\n",
       "    .dataframe thead th {\n",
       "        text-align: right;\n",
       "    }\n",
       "</style>\n",
       "<table border=\"1\" class=\"dataframe\">\n",
       "  <thead>\n",
       "    <tr style=\"text-align: right;\">\n",
       "      <th></th>\n",
       "      <th>PV1</th>\n",
       "      <th>PV2</th>\n",
       "      <th>PV3</th>\n",
       "    </tr>\n",
       "  </thead>\n",
       "  <tbody>\n",
       "  </tbody>\n",
       "</table>\n",
       "</div>"
      ],
      "text/plain": [
       "Empty DataFrame\n",
       "Columns: [PV1, PV2, PV3]\n",
       "Index: []"
      ]
     },
     "execution_count": 21,
     "metadata": {},
     "output_type": "execute_result"
    }
   ],
   "source": [
    "pv_scen.head(0)"
   ]
  },
  {
   "cell_type": "code",
   "execution_count": 32,
   "metadata": {},
   "outputs": [],
   "source": [
    "bal1_pos = df[(df['Month'] == 3) & (df['Day'] == 15)]['Positive Imbalance Price [EUR/MWh]'].values\n",
    "bal2_pos = df[(df['Month'] == 4) & (df['Day'] == 15)]['Positive Imbalance Price [EUR/MWh]'].values\n",
    "bal3_pos = df[(df['Month'] == 5) & (df['Day'] == 15)]['Positive Imbalance Price [EUR/MWh]'].values\n",
    "bal1_neg = df[(df['Month'] == 3) & (df['Day'] == 15)]['Negative Imbalance Price [EUR/MWh]'].values\n",
    "bal2_neg = df[(df['Month'] == 4) & (df['Day'] == 15)]['Negative Imbalance Price [EUR/MWh]'].values\n",
    "bal3_neg = df[(df['Month'] == 5) & (df['Day'] == 15)]['Negative Imbalance Price [EUR/MWh]'].values"
   ]
  },
  {
   "cell_type": "code",
   "execution_count": 33,
   "metadata": {},
   "outputs": [],
   "source": [
    "balPos_scen = pd.concat([pd.Series(bal1_pos), pd.Series(bal2_pos), pd.Series(bal3_pos)], axis=1)\n",
    "balNeg_scen = pd.concat([pd.Series(bal1_neg), pd.Series(bal2_neg), pd.Series(bal3_neg)], axis=1)"
   ]
  },
  {
   "cell_type": "code",
   "execution_count": 34,
   "metadata": {},
   "outputs": [],
   "source": [
    "balPos_scen.rename(columns={0: \"ImbPos1\", 1: \"ImbPos2\", 2: \"ImbPos3\"}, inplace=True)\n",
    "balNeg_scen.rename(columns={0: \"ImbNeg1\", 1: \"ImbNeg2\", 2: \"ImbNeg3\"}, inplace=True)"
   ]
  },
  {
   "cell_type": "code",
   "execution_count": 41,
   "metadata": {},
   "outputs": [],
   "source": [
    "def prepare_scenarios(dam_scen, pv_scen, balPos_scen, balNeg_scen, n_dam, n_pv, n_imb):\n",
    "    \n",
    "    pPriceDA = np.vstack(((np.array(dam_scen['DAM1']), np.array(dam_scen['DAM2']), np.array(dam_scen['DAM3']))\n",
    "                         for i in range(n_pv*n_imb))).T\n",
    "    pPV = np.vstack(([np.array(pv_scen['PV1']) for j in range(n_dam)], [np.array(pv_scen['PV2']) for j in range(n_dam)],\n",
    "                    [np.array(pv_scen['PV3']) for j in range(n_dam*n_imb)])).T\n",
    "    pPosImb = np.vstack(([np.array(balPos_scen['ImbPos1']) for j in range(n_dam)], [np.array(balPos_scen['ImbPos2']) for j in range(n_dam)],\n",
    "                    [np.array(balPos_scen['ImbPos3']) for j in range(n_dam*n_pv)])).T\n",
    "    pNegImb = np.vstack(([np.array(balNeg_scen['ImbNeg1']) for j in range(n_dam)], [np.array(balNeg_scen['ImbNeg2']) for j in range(n_dam)],\n",
    "                    [np.array(balNeg_scen['ImbNeg3']) for j in range(n_dam*n_pv)])).T\n",
    "    return pPriceDA, pPV, pPosImb, pNegImb"
   ]
  },
  {
   "cell_type": "code",
   "execution_count": 42,
   "metadata": {},
   "outputs": [
    {
     "name": "stderr",
     "output_type": "stream",
     "text": [
      "C:\\ProgramData\\Anaconda3\\lib\\site-packages\\ipykernel_launcher.py:4: FutureWarning: arrays to stack must be passed as a \"sequence\" type such as list or tuple. Support for non-sequence iterables such as generators is deprecated as of NumPy 1.16 and will raise an error in the future.\n",
      "  after removing the cwd from sys.path.\n"
     ]
    }
   ],
   "source": [
    "n_dam = 3 # of DAM price scenarios\n",
    "n_pv = 3  # of PV production scenarios\n",
    "n_imb = 3 # of Imbalance scenarios (positive and negative)\n",
    "pPriceDA, pPV, pPosImb, pNegImb = prepare_scenarios(dam_scen, pv_scen, balPos_scen, balNeg_scen, n_dam, n_pv, n_imb)"
   ]
  },
  {
   "cell_type": "code",
   "execution_count": 69,
   "metadata": {},
   "outputs": [],
   "source": [
    "np.savez('Data//model_data.npy', pPriceDA, pPV, pPosImb, pNegImb, n_dam, n_pv, n_imb)"
   ]
  },
  {
   "cell_type": "code",
   "execution_count": null,
   "metadata": {},
   "outputs": [],
   "source": []
  }
 ],
 "metadata": {
  "kernelspec": {
   "display_name": "Python 3",
   "language": "python",
   "name": "python3"
  },
  "language_info": {
   "codemirror_mode": {
    "name": "ipython",
    "version": 3
   },
   "file_extension": ".py",
   "mimetype": "text/x-python",
   "name": "python",
   "nbconvert_exporter": "python",
   "pygments_lexer": "ipython3",
   "version": "3.7.6"
  }
 },
 "nbformat": 4,
 "nbformat_minor": 4
}
